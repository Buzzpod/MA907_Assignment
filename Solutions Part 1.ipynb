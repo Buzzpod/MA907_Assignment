{
 "cells": [
  {
   "cell_type": "markdown",
   "id": "21aa7131",
   "metadata": {},
   "source": [
    "# General Configuration"
   ]
  },
  {
   "cell_type": "markdown",
   "id": "fb78dd55",
   "metadata": {},
   "source": [
    "The only additional package needed for this notebook is the \"tabulate\" library which is used for generating formatted tables of results. You should run the bellow cell only once. After this, it is recommended that the below cell is commented out."
   ]
  },
  {
   "cell_type": "code",
   "execution_count": 1,
   "id": "cbcce0b5",
   "metadata": {},
   "outputs": [
    {
     "name": "stdout",
     "output_type": "stream",
     "text": [
      "Requirement already satisfied: tabulate in c:\\users\\hello\\anaconda3\\lib\\site-packages (0.9.0)\n",
      "Note: you may need to restart the kernel to use updated packages.\n"
     ]
    }
   ],
   "source": [
    "pip install tabulate"
   ]
  },
  {
   "cell_type": "markdown",
   "id": "19a91f31",
   "metadata": {},
   "source": [
    "#### Import dependencies and initialise random generator"
   ]
  },
  {
   "cell_type": "code",
   "execution_count": 2,
   "id": "55e1e3f2",
   "metadata": {},
   "outputs": [],
   "source": [
    "import numpy as np\n",
    "import matplotlib.pyplot as plt\n",
    "from scipy.stats import norm, laplace, gmean\n",
    "import matplotlib.pyplot as plt\n",
    "import pandas as pd\n",
    "from sklearn import datasets, linear_model, preprocessing, svm\n",
    "from sklearn.model_selection import train_test_split, cross_val_score\n",
    "from sklearn.metrics import confusion_matrix, ConfusionMatrixDisplay\n",
    "from tabulate import tabulate"
   ]
  },
  {
   "cell_type": "code",
   "execution_count": 3,
   "id": "2c48929f",
   "metadata": {},
   "outputs": [],
   "source": [
    "# construct random generator \n",
    "rng = np.random.default_rng(12345)"
   ]
  },
  {
   "cell_type": "markdown",
   "id": "1c0669bf",
   "metadata": {},
   "source": [
    "# Task 1: Asian Options"
   ]
  },
  {
   "cell_type": "markdown",
   "id": "af6de165",
   "metadata": {},
   "source": [
    "In this notebook, we walk through the process of constructing and evaluating several methods of pricing a *Fixed Strike Asian Call Option with Discrete Arithmetic Average*.\n",
    "\n",
    "The methods we will use are naive, antithetic variance reduction and several control variate methods."
   ]
  },
  {
   "cell_type": "markdown",
   "id": "00c961da",
   "metadata": {},
   "source": [
    "### Local volatility\n",
    "\n",
    "Our local volatility is defined as:\n",
    "\n",
    "$\\sigma(S,t) = \\sigma_0(1 + \\sigma_1\\cos(2{\\pi}t))(1 + \\sigma_2\\exp(\\frac{-S}{50})))$\n",
    "\n",
    "where $\\sigma_0=0.2$, $\\sigma_1=0.3$ and $\\sigma_2=0.5$ and $t$ is in years.\n",
    "\n",
    "The below function is a coded implementation of the above formula."
   ]
  },
  {
   "cell_type": "code",
   "execution_count": 4,
   "id": "cee84af7",
   "metadata": {},
   "outputs": [],
   "source": [
    "def local_volatility(S,t):\n",
    "    sigma0 = 0.2\n",
    "    sigma1 = 0.3\n",
    "    sigma2 = 0.5\n",
    "    \n",
    "    sigma = sigma0*(1 + sigma1*np.cos(2*np.pi*t))*(1 + sigma2*np.exp(-S/50))\n",
    "    \n",
    "    return sigma"
   ]
  },
  {
   "cell_type": "markdown",
   "id": "9083d6bc",
   "metadata": {},
   "source": [
    "### Time-stepping\n",
    "\n",
    "For efficiency and to reduce the amount of repeated code, we seperate the time-stepping operations into a seperate function. The function can handle time-stepping for different types of option pricing methods such as naive, antithetic variance reduction and control variates. The function takes as input:\n",
    "\n",
    "- S0: Initial (today's) spot price\n",
    "- t: Number of time steps\n",
    "- dt: Size of spacing between time steps\n",
    "- Nsteps: Number of days from now until time T where T is in years\n",
    "- N_paths: Number of paths to simulate\n",
    "- Method: flag that determins which type of time-stepper should be executed (Naive, Antithetic or Control Variate)"
   ]
  },
  {
   "cell_type": "code",
   "execution_count": 5,
   "id": "f3bee07a",
   "metadata": {},
   "outputs": [],
   "source": [
    "def time_stepper(S0, t, dt, Nsteps, N_paths, method):\n",
    "    # Naive time-stepper\n",
    "    if method == \"naive\":\n",
    "        S = np.zeros((Nsteps + 1, Npaths))\n",
    "        S[0,:] = S0\n",
    "        for n in range(Nsteps):\n",
    "            sigma = local_volatility(S[n],t[n])\n",
    "            dW = np.sqrt(dt) * rng.normal(0,1,Npaths)\n",
    "            S[n+1,:] = S[n,:] * (1. + r*dt + sigma * dW[:])\n",
    "        \n",
    "        return S\n",
    "    \n",
    "    # Antithetic time-stepper\n",
    "    elif method == \"antithetic\":\n",
    "        S_plus = np.zeros((Nsteps + 1, Npaths))\n",
    "        S_minus = np.zeros((Nsteps + 1, Npaths))\n",
    "        S_plus[0,:] = S0\n",
    "        S_minus[0,:] = S0\n",
    "        for n in range(Nsteps):\n",
    "            sigma_plus = local_volatility(S_plus[n],t[n])\n",
    "            sigma_minus = local_volatility(S_minus[n],t[n])\n",
    "            dW = np.sqrt(dt) * rng.normal(0,1,Npaths)\n",
    "            S_plus[n+1,:] = S_plus[n,:] * (1. + r*dt + sigma_plus * dW[:])\n",
    "            S_minus[n+1,:] = S_minus[n,:] * (1. + r*dt - sigma_minus * dW[:])\n",
    "        \n",
    "        return S_plus, S_minus\n",
    "    \n",
    "    # Control variate time-stepper\n",
    "    elif method == \"control_variate\":\n",
    "        S = np.zeros((Nsteps + 1, Npaths))\n",
    "        Z = np.zeros((Nsteps + 1, Npaths))\n",
    "        S[0,:] = S0\n",
    "        Z[0,:] = S0\n",
    "        for n in range(Nsteps):\n",
    "            dW = np.sqrt(dt) * rng.normal(0,1,Npaths)\n",
    "            Z[n+1,:] = Z[n,:] * (1. + r*dt + local_volatility(S0,0) * dW[:])\n",
    "            S[n+1,:] = S[n,:] * (1. + r*dt + local_volatility(S[n],t[n]) * dW[:])\n",
    "        \n",
    "        return S, Z\n",
    "        \n",
    "    else:\n",
    "        return \"Error, method not supported\""
   ]
  },
  {
   "cell_type": "markdown",
   "id": "a1139140",
   "metadata": {},
   "source": [
    "### Payoff\n",
    "The payoff function for a fixed strike Asian call option with discrete arithmetic average is given by:\n",
    "\n",
    "$max(\\frac{1}{N}\\sum_{n=1}^N S_n - K, 0)$,\n",
    "\n",
    "where $N$ is the number of steps, $S_n$ is the sequence of daily closing prices of the underlying and $K$ is the fixed strike price.\n",
    "\n",
    "The coded implementation of the payoff function is below."
   ]
  },
  {
   "cell_type": "code",
   "execution_count": 6,
   "id": "f073353f",
   "metadata": {},
   "outputs": [],
   "source": [
    "def payoff(S, K, r, T):\n",
    "    return np.exp(-r*T)*np.maximum(np.mean(S,axis=0) - K, 0)"
   ]
  },
  {
   "cell_type": "markdown",
   "id": "7f542bff",
   "metadata": {},
   "source": [
    "### Asian option pricing\n",
    "\n",
    "Now we define the functions for computing the price and variance of an Asian option using naive, antithetic and several control variate methods."
   ]
  },
  {
   "cell_type": "markdown",
   "id": "d2230391",
   "metadata": {},
   "source": [
    "#### Naive pricing"
   ]
  },
  {
   "cell_type": "markdown",
   "id": "3512bf89",
   "metadata": {},
   "source": [
    "Naive pricing is a relatively simple Monte-Carlo based method for estimating the value of an option. In this case, the method is estimates the value by simulating $Npaths$ over the option's lifespan and creates a distribution of discounted payoffs from which the mean is taken to be the value estimate.\n",
    "\n",
    "The coded implementation of this method is below."
   ]
  },
  {
   "cell_type": "code",
   "execution_count": 7,
   "id": "c1b338a1",
   "metadata": {},
   "outputs": [],
   "source": [
    "def asian_call_naive(S0, K, T, r, Npaths):\n",
    "    Nsteps = int(260 * T)\n",
    "    t, dt = np.linspace(0, T, Nsteps + 1, retstep=True)\n",
    "    \n",
    "    # Generate S from the time-stepper function\n",
    "    S = time_stepper(S0, t, dt, Nsteps, Npaths, method=\"naive\")\n",
    "    \n",
    "    # Compute discounted payoff\n",
    "    fS = payoff(S, K, r, T)\n",
    "    \n",
    "    # Compute price and variance\n",
    "    price = np.mean(fS)\n",
    "    variance = np.var(fS)\n",
    "    \n",
    "    return price, variance"
   ]
  },
  {
   "cell_type": "markdown",
   "id": "6ef2308d",
   "metadata": {},
   "source": [
    "#### Antithetic pricing"
   ]
  },
  {
   "cell_type": "markdown",
   "id": "dadc014d",
   "metadata": {},
   "source": [
    "Antithetic pricing is also a Monte-Carlo based method but the difference between antithetic and naive is that the antithetic method simulates pairs of antithetic paths which are negatively correlated with eachother. This helps to cancel out some of the statistical noise in the simulations resulting in lower variance value estimates.\n",
    "\n",
    "The coded implementation of this method is below."
   ]
  },
  {
   "cell_type": "code",
   "execution_count": 8,
   "id": "eec2cd67",
   "metadata": {},
   "outputs": [],
   "source": [
    "def asian_call_antithetic(S0, K, T, r, Npaths):\n",
    "    Nsteps = int(260 * T)    \n",
    "    t, dt = np.linspace(0, T, Nsteps + 1, retstep=True)       \n",
    "    Z = np.zeros(Npaths)         \n",
    "    \n",
    "    # Generate S+ and S- from the time-stepper function\n",
    "    S_plus, S_minus = time_stepper(S0, t, dt, Nsteps, Npaths, method=\"antithetic\")     \n",
    "    \n",
    "    # Generate discounted payoffs of S+ and S-\n",
    "    fS_plus = payoff(S_plus, K, r, T)\n",
    "    fS_minus = payoff(S_minus, K, r, T)\n",
    "\n",
    "    # Generate Z (average of pairs of antithetic paths)\n",
    "    for i in range(len(fS_plus)):\n",
    "        Z[i] = (fS_plus[i] + fS_minus[i])/2\n",
    "    \n",
    "    # Calculate price and variance\n",
    "    price = np.mean(Z)\n",
    "    variance = np.var(Z)\n",
    "    \n",
    "    return price, variance"
   ]
  },
  {
   "cell_type": "markdown",
   "id": "aaf94eec",
   "metadata": {},
   "source": [
    "#### Black Scholes European Call"
   ]
  },
  {
   "cell_type": "markdown",
   "id": "38b6b94b",
   "metadata": {},
   "source": [
    "Below we have the function taken from the seminar resources for computing the Black Scholes formula which is used to calculate the sample mean in control variate 2."
   ]
  },
  {
   "cell_type": "code",
   "execution_count": 9,
   "id": "125c784b",
   "metadata": {},
   "outputs": [],
   "source": [
    "def BS_call(S, K, T, r, sigma):\n",
    "    d1 = (np.log(S/K) + (r + sigma**2 /2) * T)/(sigma*np.sqrt(T))\n",
    "    d2 = d1 - sigma * np.sqrt(T)\n",
    "    return S * norm.cdf(d1) - K * np.exp(-r*T) * norm.cdf(d2)"
   ]
  },
  {
   "cell_type": "markdown",
   "id": "5000a64b",
   "metadata": {},
   "source": [
    "#### Control variate pricing"
   ]
  },
  {
   "cell_type": "markdown",
   "id": "079f9a9e",
   "metadata": {},
   "source": [
    "Control variate methods are designed to reduce the variance in option valuations. The basic principles are that a control variate is chosen, which should be correlated with the Asian option value. Then the expected value of the Asian option is estimated using Monte-Carlo simulation. Next, we calculate the expected value of the control variate and use the expected value of the Asian option and control variate to compute the control variate coefficient, which is a measure of the correlation between the two objects. Finally, the control variate is used to adjust the computed value of the Asian option which is the key step that reduces variance in the estimate."
   ]
  },
  {
   "cell_type": "markdown",
   "id": "9dfb8442",
   "metadata": {},
   "source": [
    "The first control variate is simply $Z_T$."
   ]
  },
  {
   "cell_type": "code",
   "execution_count": 10,
   "id": "f8732c4a",
   "metadata": {},
   "outputs": [],
   "source": [
    "def asian_call_cv1(S0, K, T, r, Npaths):\n",
    "   \n",
    "    Nsteps = int(260 * T)\n",
    "    t, dt = np.linspace(0, T, Nsteps + 1, retstep=True)\n",
    "    S, Z = time_stepper(S0, t, dt, Nsteps, Npaths, method=\"control_variate\")\n",
    "    \n",
    "    # Compute sample mean and var\n",
    "    sigma = local_volatility(S0,0)\n",
    "    mean_ST = S0*np.exp(r*T)\n",
    "    var_ST = mean_ST**2 * (np.exp(sigma**2*T)-1)\n",
    "    \n",
    "    # Compute the covariance and coefficient c\n",
    "    fST = payoff(S, K, r, T)\n",
    "    cov_fST_ST = np.mean(fST*Z[-1,:])-np.mean(fST)*np.mean(Z[-1,:])\n",
    "    c = cov_fST_ST/var_ST\n",
    "    \n",
    "    # Compute the adjusted discounted payoff\n",
    "    fc = fST-c*(Z[-1,:]-mean_ST)                    \n",
    "    \n",
    "    # Compute the price and variance\n",
    "    price = np.mean(fc)\n",
    "    variance = np.var(fc)\n",
    "    \n",
    "    return price, variance"
   ]
  },
  {
   "cell_type": "markdown",
   "id": "7aabf5e9",
   "metadata": {},
   "source": [
    "The second control variate is $e^{rT}max(Z_T - K, 0)$"
   ]
  },
  {
   "cell_type": "markdown",
   "id": "f107a0bb",
   "metadata": {},
   "source": [
    "Here we use slightly different notation to make it clearer when we are working with the European option and the Asian option. Notice also that the $var$ calculation is different to the other methods in this notebook since we are now considering a European call option."
   ]
  },
  {
   "cell_type": "code",
   "execution_count": 11,
   "id": "0b23c686",
   "metadata": {},
   "outputs": [],
   "source": [
    "def asian_call_cv2(S0, K, T, r, Npaths):\n",
    "    Nsteps = int(260 * T)\n",
    "    t, dt = np.linspace(0, T, Nsteps + 1, retstep=True)\n",
    "    S, Z = time_stepper(S0, t, dt, Nsteps, Npaths, method=\"control_variate\")\n",
    "    \n",
    "    sigma = local_volatility(S0,0)                              # constant volatility\n",
    "    mean = BS_call(S0,K,T,r,sigma)                              # compute mean via Black Scholes\n",
    "    var = S**2 * np.exp(2*r*T)*(np.exp(sigma**2*T)-1)           # var for European call\n",
    "    \n",
    "    # Generate the discounted payoffs (value) of both the European and Asian options\n",
    "    eurPrice = payoff(Z[-1,:],K,r,T)\n",
    "    optPrice = payoff(S,K,r,T)\n",
    "    \n",
    "    # Compute the covariance\n",
    "    eurMean, eurVar = np.mean(eurPrice), np.var(eurPrice)\n",
    "    covOpt = np.mean(optPrice*eurPrice) - np.mean(optPrice)*eurMean\n",
    "    \n",
    "    # Here we check if the variance of the control variate is zero in which case, reducing variance is unnecessary so we set c to zero\n",
    "    if eurVar == 0:\n",
    "        c = 0\n",
    "    else:\n",
    "        c = covOpt / var\n",
    "    \n",
    "    # Compute the adjusted discounted payoff\n",
    "    fc = optPrice - c*(eurPrice - mean)\n",
    "    \n",
    "    # Compute price and variance\n",
    "    price = np.mean(fc)\n",
    "    variance = np.var(fc)\n",
    "    \n",
    "    return price, variance"
   ]
  },
  {
   "cell_type": "markdown",
   "id": "6473af3a",
   "metadata": {},
   "source": [
    "The third control variate is $max((\\prod_{n=0}^N Z_n)^{\\frac{1}{N+1}}-K, 0)$\n",
    "\n",
    "In this method, we use the discounted payoff for a geometrical averaged Asian option where the expectation is given by:\n",
    "\n",
    "$Z_0exp((r_g - r)T)N(d_1)-Kexp(-rT)N(d_2)$"
   ]
  },
  {
   "cell_type": "markdown",
   "id": "2b593027",
   "metadata": {},
   "source": [
    "$d_1 = \\frac{\\log\\frac{Z_0}{K} + r_g + \\frac{1}{2}\\sigma_g ^2T}{\\sigma_g \\sqrt(T)}$"
   ]
  },
  {
   "cell_type": "code",
   "execution_count": 12,
   "id": "30af5050",
   "metadata": {},
   "outputs": [],
   "source": [
    "def asian_call_cv3(S0, K, T, r, Npaths):\n",
    "   \n",
    "    Nsteps = int(260 * T)\n",
    "    t, dt = np.linspace(0, T, Nsteps + 1, retstep=True)\n",
    "    S, Z = time_stepper(S0, t, dt, Nsteps, Npaths, method=\"control_variate\")\n",
    "    \n",
    "    sigma = local_volatility(S0,0)\n",
    "    \n",
    "    # Here we set up the variables needed to compute the expectation as given in the formula above\n",
    "    vol_geo = sigma*np.sqrt((2*Nsteps+1)/6*(Nsteps+1))\n",
    "    r_geo = (1/2)*(r-(1/2)*vol_geo**2)\n",
    "    d1 = (np.log(S0/K) + (r_geo + (1/2)*vol_geo**2)*T)/(vol_geo*np.sqrt(T))\n",
    "    d2 = d1 -  vol_geo * np.sqrt(T)\n",
    "    \n",
    "    # Compute mean and var of S\n",
    "    mean_ST = S0*np.exp((r_geo-r)*T)*norm.cdf(d1) - K*np.exp(-r*T)*norm.cdf(d2)\n",
    "    var_ST = mean_ST**2 * (np.exp(sigma**2*T)-1)\n",
    "    \n",
    "    # As per the methodology, compute geometric mean and the covariance\n",
    "    fST = np.maximum(gmean(S)-K,0)\n",
    "    cov_fST_ST = np.mean(fST*Z[-1,:]) - np.mean(fST)*np.mean(Z[-1,:])\n",
    "    \n",
    "    # Here we check if the variance of the control variate is zero in which case, reducing variance is unnecessary so we set c to zero\n",
    "    if var_ST == 0:\n",
    "        c = 0\n",
    "    else:\n",
    "        c = cov_fST_ST / var_ST\n",
    "    \n",
    "    # Compute the adjusted discounted payoff\n",
    "    f_c = fST-c*(Z[-1,:]-mean_ST)\n",
    "    \n",
    "    # Compute the price and variance\n",
    "    price = np.mean(f_c)\n",
    "    variance = np.var(f_c)\n",
    "    \n",
    "    return price, variance"
   ]
  },
  {
   "cell_type": "markdown",
   "id": "3729ad5d",
   "metadata": {},
   "source": [
    "### Method evaluation"
   ]
  },
  {
   "cell_type": "markdown",
   "id": "8f29925e",
   "metadata": {},
   "source": [
    "#### Define the input arguments for testing:"
   ]
  },
  {
   "cell_type": "code",
   "execution_count": 13,
   "id": "e013e67e",
   "metadata": {},
   "outputs": [],
   "source": [
    "K= 110            #strike price\n",
    "r= 0.05           #interst rate\n",
    "Npaths= 1000      #No. of paths\n",
    "S0 = 100          #starting price\n",
    "T = 3             #time in years"
   ]
  },
  {
   "cell_type": "markdown",
   "id": "c5316e97",
   "metadata": {},
   "source": [
    "#### Comparison table"
   ]
  },
  {
   "cell_type": "markdown",
   "id": "da251f8a",
   "metadata": {},
   "source": [
    "Here we generate results tables that are used to compare the various methods in three different scenarios; S0=100<K, S0=110=K and S0=120>K."
   ]
  },
  {
   "cell_type": "code",
   "execution_count": 14,
   "id": "adff1878",
   "metadata": {},
   "outputs": [
    {
     "name": "stdout",
     "output_type": "stream",
     "text": [
      "\n",
      "The below results were generated by taking the mean of 10 runs of each method:\n",
      "\n",
      "\n",
      "\n",
      "This is the S0<K case:\n",
      "S0 = 90\n",
      "╒═══════════════════╤═════════════════╤═══════════════╤═══════╕\n",
      "│ Method            │   Average price │   Average SEM │   +/- │\n",
      "╞═══════════════════╪═════════════════╪═══════════════╪═══════╡\n",
      "│ Naive             │           3.648 │         0.291 │  0.57 │\n",
      "├───────────────────┼─────────────────┼───────────────┼───────┤\n",
      "│ Antithetic        │           3.631 │         0.188 │  0.37 │\n",
      "├───────────────────┼─────────────────┼───────────────┼───────┤\n",
      "│ Control variate 1 │           3.587 │         0.195 │  0.38 │\n",
      "├───────────────────┼─────────────────┼───────────────┼───────┤\n",
      "│ Control variate 2 │           3.659 │         0.291 │  0.57 │\n",
      "├───────────────────┼─────────────────┼───────────────┼───────┤\n",
      "│ Control variate 3 │           3.655 │         0.293 │  0.57 │\n",
      "╘═══════════════════╧═════════════════╧═══════════════╧═══════╛\n",
      "\n",
      "\n",
      "This is the S0=K case:\n",
      "S0 = 110\n",
      "╒═══════════════════╤═════════════════╤═══════════════╤═══════╕\n",
      "│ Method            │   Average price │   Average SEM │   +/- │\n",
      "╞═══════════════════╪═════════════════╪═══════════════╪═══════╡\n",
      "│ Naive             │          12.719 │         0.541 │  1.06 │\n",
      "├───────────────────┼─────────────────┼───────────────┼───────┤\n",
      "│ Antithetic        │          12.772 │         0.268 │  0.52 │\n",
      "├───────────────────┼─────────────────┼───────────────┼───────┤\n",
      "│ Control variate 1 │          12.928 │         0.324 │  0.63 │\n",
      "├───────────────────┼─────────────────┼───────────────┼───────┤\n",
      "│ Control variate 2 │          12.875 │         0.555 │  1.09 │\n",
      "├───────────────────┼─────────────────┼───────────────┼───────┤\n",
      "│ Control variate 3 │          13.851 │         0.589 │  1.16 │\n",
      "╘═══════════════════╧═════════════════╧═══════════════╧═══════╛\n",
      "\n",
      "\n",
      "This is the S0>K case:\n",
      "S0 = 130\n",
      "╒═══════════════════╤═════════════════╤═══════════════╤═══════╕\n",
      "│ Method            │   Average price │   Average SEM │   +/- │\n",
      "╞═══════════════════╪═════════════════╪═══════════════╪═══════╡\n",
      "│ Naive             │          27.243 │         0.778 │  1.52 │\n",
      "├───────────────────┼─────────────────┼───────────────┼───────┤\n",
      "│ Antithetic        │          27.635 │         0.236 │  0.46 │\n",
      "├───────────────────┼─────────────────┼───────────────┼───────┤\n",
      "│ Control variate 1 │          27.274 │         0.428 │  0.84 │\n",
      "├───────────────────┼─────────────────┼───────────────┼───────┤\n",
      "│ Control variate 2 │          27.385 │         0.765 │  1.5  │\n",
      "├───────────────────┼─────────────────┼───────────────┼───────┤\n",
      "│ Control variate 3 │          30.525 │         0.866 │  1.7  │\n",
      "╘═══════════════════╧═════════════════╧═══════════════╧═══════╛\n"
     ]
    }
   ],
   "source": [
    "# Define number of test runs required and initialise the matrices to store results\n",
    "Ntests = 10\n",
    "naive_matrix = np.zeros((3,Ntests))\n",
    "antithetic_matrix = np.zeros((3,Ntests))\n",
    "cv1_matrix = np.zeros((3,Ntests))\n",
    "cv2_matrix = np.zeros((3,Ntests))\n",
    "cv3_matrix = np.zeros((3,Ntests))\n",
    "\n",
    "S0 = [90,110,130]\n",
    "print(f\"\\nThe below results were generated by taking the mean of {Ntests} runs of each method:\\n\")\n",
    "for S in S0:\n",
    "    # Populate results matrices for each of the test runs\n",
    "    for i in range(0,Ntests):\n",
    "        naive_matrix[0,i], naive_matrix[1,i] = asian_call_naive(S, K, T, r, Npaths)\n",
    "        naive_matrix[2,i] = np.sqrt(naive_matrix[1,i]/Npaths)\n",
    "        antithetic_matrix[0,i], antithetic_matrix[1,i] = asian_call_antithetic(S, K, T, r, Npaths)\n",
    "        antithetic_matrix[2,i] = np.sqrt(antithetic_matrix[1,i]/Npaths)\n",
    "        cv1_matrix[0,i], cv1_matrix[1,i] = asian_call_cv1(S, K, T, r, Npaths)\n",
    "        cv1_matrix[2,i] = np.sqrt(cv1_matrix[1,i]/Npaths)\n",
    "        cv2_matrix[0,i], cv2_matrix[1,i] = asian_call_cv2(S, K, T, r, Npaths)\n",
    "        cv2_matrix[2,i] = np.sqrt(cv2_matrix[1,i]/Npaths)\n",
    "        cv3_matrix[0,i], cv3_matrix[1,i] = asian_call_cv3(S, K, T, r, Npaths)\n",
    "        cv3_matrix[2,i] = np.sqrt(cv3_matrix[1,i]/Npaths)\n",
    "\n",
    "    if S<K:\n",
    "        print(\"\\n\\nThis is the S0<K case:\")\n",
    "    elif S==K:\n",
    "        print(\"\\n\\nThis is the S0=K case:\")\n",
    "    else:\n",
    "        print(\"\\n\\nThis is the S0>K case:\")\n",
    "    print(f\"S0 = {S}\")\n",
    "    \n",
    "    # Generate results table\n",
    "    Rtable = [['Method', 'Average price', 'Average SEM', '+/-'],\n",
    "            ['Naive', round(np.mean(naive_matrix[0,:]),3), round(np.mean(naive_matrix[2,:]),3), round(1.96*np.mean(naive_matrix[2,:]),2)],\n",
    "            ['Antithetic', round(np.mean(antithetic_matrix[0,:]),3), round(np.mean(antithetic_matrix[2,:]),3), round(1.96*np.mean(antithetic_matrix[2,:]),2)],\n",
    "            ['Control variate 1', round(np.mean(cv1_matrix[0,:]),3), round(np.mean(cv1_matrix[2,:]),3), round(1.96*np.mean(cv1_matrix[2,:]),2)],\n",
    "            ['Control variate 2', round(np.mean(cv2_matrix[0,:]),3), round(np.mean(cv2_matrix[2,:]),3), round(1.96*np.mean(cv2_matrix[2,:]),2)],\n",
    "            ['Control variate 3', round(np.mean(cv3_matrix[0,:]),3), round(np.mean(cv3_matrix[2,:]),3), round(1.96*np.mean(cv3_matrix[2,:]),2)]]\n",
    "\n",
    "    \n",
    "    print(tabulate(Rtable, headers='firstrow', tablefmt='fancy_grid'))"
   ]
  },
  {
   "cell_type": "markdown",
   "id": "b3fd95f7",
   "metadata": {},
   "source": [
    "Comparing the results of the various methods, several conclusions can be drawn.\n",
    "\n",
    "1. The Naive method results in relatively high variance diminishing the accuracy of it's pricing however, an advantage to it is that it is very easy to implement and so could be a good option for options with simpler payoff structures\n",
    "\n",
    "2. The Antithetic method results in the lowest variance meaning that the accuracy of it's pricing is superior to the Naive method. This is a feature of the methodology which reduces the variance of Monte Carlo estimates in most cases\n",
    "\n",
    "3. Surpisingly, all three control variates resulted in poorer levels of variance when compared to the antithetic method and considering the complexity of their methodologies, are likely not a good option in this scenario. Out of all three control variates howver, control variate 1 displayed the lowest variance whilst control variate 3 displayed the highest variacnce. This could be because first control variate has a higher correlation with the Asian option and therefore the variance reduction step has a greater effect on the overall estimate.\n"
   ]
  },
  {
   "cell_type": "markdown",
   "id": "3e1da987",
   "metadata": {},
   "source": [
    "### Plotting option price as a function of spot price"
   ]
  },
  {
   "cell_type": "markdown",
   "id": "bf89e15b",
   "metadata": {},
   "source": [
    "Below we use the antithetic method (since it is the lowest variance method) to plot option value as a function of spot prices ranging from 10 to 180."
   ]
  },
  {
   "cell_type": "code",
   "execution_count": 15,
   "id": "3a9be0ff",
   "metadata": {},
   "outputs": [
    {
     "data": {
      "image/png": "[encoded data removed]",
      "text/plain": [
       "<Figure size 432x288 with 1 Axes>"
      ]
     },
     "metadata": {
      "needs_background": "light"
     },
     "output_type": "display_data"
    }
   ],
   "source": [
    "S0 = np.arange(10, 180, 2)\n",
    "opt_val = []\n",
    "\n",
    "for S in S0:\n",
    "    ST = asian_call_antithetic(S, K, T, r, Npaths)\n",
    "    opt_val.append(ST[0])\n",
    "\n",
    "plt.plot(S0, opt_val)\n",
    "plt.xlabel(\"Spot price S0\")\n",
    "plt.ylabel(\"Option value\")\n",
    "plt.title(\"Option value as a function of spot prices\")\n",
    "plt.show()"
   ]
  },
  {
   "cell_type": "markdown",
   "id": "bda388ca",
   "metadata": {},
   "source": [
    "Looking at the above plot, we see that the option value is deep out of the money from spot price 10 to 75 and in this range, the option value remains relatively flat and close to zero. After this point, the gradient continues to increase sharply. This corresponds with the below delta plot as the option value becomes more sensitive to changes in the underlying price as the underlying price approaches and surpasses the strike price."
   ]
  },
  {
   "cell_type": "markdown",
   "id": "06b3ffa5",
   "metadata": {},
   "source": [
    "### Deltas"
   ]
  },
  {
   "cell_type": "markdown",
   "id": "69ebf2ba",
   "metadata": {},
   "source": [
    "Below is a function that computes the pathwise delta for a given spot price S0."
   ]
  },
  {
   "cell_type": "code",
   "execution_count": 16,
   "id": "c26bd8e1",
   "metadata": {},
   "outputs": [],
   "source": [
    "def MC_asian_call_delta_pathwise(S0, K, T, r, Npaths):\n",
    "    Nsteps = int(260 * T)\n",
    "    t, dt = np.linspace(0, T, Nsteps + 1, retstep=True)\n",
    "    S = time_stepper(S0, t, dt, Nsteps, Npaths, method=\"naive\")\n",
    "    \n",
    "    # Get the first and last values of S (S0 and ST)\n",
    "    S0 = S[0,:]\n",
    "    ST = S[-1,:]\n",
    "    \n",
    "    # Compute the delta sequence using a heaviside step function\n",
    "    Z = np.exp(-r*T) * (ST/S0) * np.heaviside(np.mean(S,axis=0)-K,0)\n",
    "    \n",
    "    delta = np.mean(Z)\n",
    "    variance = np.var(Z)\n",
    "    \n",
    "    return delta"
   ]
  },
  {
   "cell_type": "markdown",
   "id": "da63d2ce",
   "metadata": {},
   "source": [
    "Now we plot the deltas using the naive timestepper over a series of spot prices ranging from 10 to 180"
   ]
  },
  {
   "cell_type": "code",
   "execution_count": 17,
   "id": "a22d267f",
   "metadata": {},
   "outputs": [
    {
     "data": {
      "image/png": "[encoded data removed]",
      "text/plain": [
       "<Figure size 432x288 with 1 Axes>"
      ]
     },
     "metadata": {
      "needs_background": "light"
     },
     "output_type": "display_data"
    }
   ],
   "source": [
    "S0 = np.arange(10, 180, 2)\n",
    "deltas = []\n",
    "\n",
    "for S in S0:\n",
    "    delta = MC_asian_call_delta_pathwise(S, K, T, r, Npaths)\n",
    "    deltas.append(delta)\n",
    "    \n",
    "plt.plot(S0,deltas)\n",
    "plt.xlabel(\"Spot price S0\")\n",
    "plt.ylabel(\"Delta\")\n",
    "plt.title(\"Delta as a function of spot prices\")\n",
    "plt.show()"
   ]
  },
  {
   "cell_type": "markdown",
   "id": "64d867ec",
   "metadata": {},
   "source": [
    "A pathwise delta is a measure of how sensitive the option price is to changes in the underlying asset price. For example, if an option has delta of 0.8 then if the underlying asset price increases by £1, then the option value will increase by £0.80. We can see that the delta increases sharply from underlying prices 10 to 125 at which point it begins to plateau."
   ]
  }
 ],
 "metadata": {
  "kernelspec": {
   "display_name": "Python 3 (ipykernel)",
   "language": "python",
   "name": "python3"
  },
  "language_info": {
   "codemirror_mode": {
    "name": "ipython",
    "version": 3
   },
   "file_extension": ".py",
   "mimetype": "text/x-python",
   "name": "python",
   "nbconvert_exporter": "python",
   "pygments_lexer": "ipython3",
   "version": "3.9.7"
  }
 },
 "nbformat": 4,
 "nbformat_minor": 5
}
